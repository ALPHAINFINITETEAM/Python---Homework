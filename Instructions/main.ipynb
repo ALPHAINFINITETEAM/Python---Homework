{
 "cells": [
  {
   "cell_type": "code",
   "execution_count": 101,
   "metadata": {},
   "outputs": [],
   "source": [
    "# path and csv imports\n",
    "from pathlib import Path\n",
    "import csv"
   ]
  },
  {
   "cell_type": "code",
   "execution_count": 480,
   "metadata": {},
   "outputs": [
    {
     "name": "stdout",
     "output_type": "stream",
     "text": [
      "-1926159.0\n",
      "2196167.0\n"
     ]
    }
   ],
   "source": [
    "# set file path and open csv file into csv reader object\n",
    "with open (\"PyBank/Resources/budget_data.csv\") as file:\n",
    "   # print(file.read())\n",
    "   csvreader = csv.reader(file)\n",
    "   header = next(csvreader)\n",
    "   \n",
    "\n",
    "   # Initialize metric variables\n",
    "\n",
    "   i = 0\n",
    "   total = 0\n",
    "   previous_row = 0\n",
    "   change = 0\n",
    "   changes = 0\n",
    "   average_change = 0\n",
    "   list_of_change =[]\n",
    "   min_change= 0\n",
    "   max_change = 0\n",
    "   date = []\n",
    "   list_date_change = [\"\", 0]\n",
    "   min_date = []\n",
    "   max_date = []\n",
    "   \n",
    "   # Read each row of data after header\n",
    "   \n",
    "   for row in csvreader:\n",
    "       \n",
    "    \n",
    "    \n",
    "    \n",
    "    \n",
    "      if i != 0: \n",
    "         change = prev_row - float(row[1]) \n",
    "         #print(f\"The change is {change}\")\n",
    "         #print(f\"Date is {row[0]}\")\n",
    "      prev_row = float(row[1])\n",
    "      changes -= change\n",
    "      i+=1\n",
    "      total += float(row[1])\n",
    "      \n",
    "      \n",
    "      \n",
    "   #print(changes / (i-1))\n",
    "\n",
    "   # initialize variables to hold list of increase/decrease changes\n",
    "\n",
    "   \n",
    "      \n",
    "\n",
    "\n",
    "\n",
    "      if min_change == 0:\n",
    "        min_change = change\n",
    "      elif change > min_change:\n",
    "       min_change = change\n",
    "      if change < max_change:\n",
    "       max_change = change\n",
    "\n",
    "      \n",
    "   #print(list_date_change)   \n",
    "   #print(list_of_change)  \n",
    "   #print(date)   \n",
    "   print(max_change)\n",
    "   #print(f\"Date is {row[0]}\")\n",
    "   print(min_change)\n",
    "   #print(f\"Date is {row[0]}\")\n",
    "   \n",
    "      \n",
    "\n",
    "\n",
    "\n"
   ]
  },
  {
   "cell_type": "code",
   "execution_count": 437,
   "metadata": {},
   "outputs": [
    {
     "name": "stdout",
     "output_type": "stream",
     "text": [
      "\n",
      "Financial Analysis\n",
      "----------------------------\n",
      "total months : 86\n",
      "total : $ 38382578.0\n",
      "average change : -2315.12\n",
      "\n"
     ]
    }
   ],
   "source": [
    "# Generate output string\n",
    "output = f\"\"\"\n",
    "Financial Analysis\n",
    "----------------------------\n",
    "total months : {i}\n",
    "total : $ {total}\n",
    "average change : {average_change}\n",
    "\"\"\"\n",
    "print(output)"
   ]
  },
  {
   "cell_type": "code",
   "execution_count": 267,
   "metadata": {},
   "outputs": [],
   "source": [
    "# Saving aggregated budget_data for PyBank:\n",
    "with open(\"aggreagated_data.txt\", \"w\") as aggregated_data_file:\n",
    "    aggregated_data_file.write(output)"
   ]
  }
 ],
 "metadata": {
  "kernelspec": {
   "display_name": "Python 3.7.13 ('dev')",
   "language": "python",
   "name": "python3"
  },
  "language_info": {
   "codemirror_mode": {
    "name": "ipython",
    "version": 3
   },
   "file_extension": ".py",
   "mimetype": "text/x-python",
   "name": "python",
   "nbconvert_exporter": "python",
   "pygments_lexer": "ipython3",
   "version": "3.7.13"
  },
  "orig_nbformat": 4,
  "vscode": {
   "interpreter": {
    "hash": "ac184df1875f1b0b9479cccc7335691c9a0577fad240681ae1ce754ac878a5f3"
   }
  }
 },
 "nbformat": 4,
 "nbformat_minor": 2
}
