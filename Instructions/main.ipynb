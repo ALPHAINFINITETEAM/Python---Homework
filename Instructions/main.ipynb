{
 "cells": [
  {
   "cell_type": "code",
   "execution_count": 2,
   "metadata": {},
   "outputs": [],
   "source": [
    "# path and csv imports\n",
    "from pathlib import Path\n",
    "import csv"
   ]
  },
  {
   "cell_type": "code",
   "execution_count": 14,
   "metadata": {},
   "outputs": [
    {
     "name": "stdout",
     "output_type": "stream",
     "text": [
      "Total number of months 1\n",
      "Total number of months 2\n",
      "Total number of months 3\n",
      "Total number of months 4\n",
      "Total number of months 5\n",
      "Total number of months 6\n",
      "Total number of months 7\n",
      "Total number of months 8\n",
      "Total number of months 9\n",
      "Total number of months 10\n",
      "Total number of months 11\n",
      "Total number of months 12\n",
      "Total number of months 13\n",
      "Total number of months 14\n",
      "Total number of months 15\n",
      "Total number of months 16\n",
      "Total number of months 17\n",
      "Total number of months 18\n",
      "Total number of months 19\n",
      "Total number of months 20\n",
      "Total number of months 21\n",
      "Total number of months 22\n",
      "Total number of months 23\n",
      "Total number of months 24\n",
      "Total number of months 25\n",
      "Total number of months 26\n",
      "Total number of months 27\n",
      "Total number of months 28\n",
      "Total number of months 29\n",
      "Total number of months 30\n",
      "Total number of months 31\n",
      "Total number of months 32\n",
      "Total number of months 33\n",
      "Total number of months 34\n",
      "Total number of months 35\n",
      "Total number of months 36\n",
      "Total number of months 37\n",
      "Total number of months 38\n",
      "Total number of months 39\n",
      "Total number of months 40\n",
      "Total number of months 41\n",
      "Total number of months 42\n",
      "Total number of months 43\n",
      "Total number of months 44\n",
      "Total number of months 45\n",
      "Total number of months 46\n",
      "Total number of months 47\n",
      "Total number of months 48\n",
      "Total number of months 49\n",
      "Total number of months 50\n",
      "Total number of months 51\n",
      "Total number of months 52\n",
      "Total number of months 53\n",
      "Total number of months 54\n",
      "Total number of months 55\n",
      "Total number of months 56\n",
      "Total number of months 57\n",
      "Total number of months 58\n",
      "Total number of months 59\n",
      "Total number of months 60\n",
      "Total number of months 61\n",
      "Total number of months 62\n",
      "Total number of months 63\n",
      "Total number of months 64\n",
      "Total number of months 65\n",
      "Total number of months 66\n",
      "Total number of months 67\n",
      "Total number of months 68\n",
      "Total number of months 69\n",
      "Total number of months 70\n",
      "Total number of months 71\n",
      "Total number of months 72\n",
      "Total number of months 73\n",
      "Total number of months 74\n",
      "Total number of months 75\n",
      "Total number of months 76\n",
      "Total number of months 77\n",
      "Total number of months 78\n",
      "Total number of months 79\n",
      "Total number of months 80\n",
      "Total number of months 81\n",
      "Total number of months 82\n",
      "Total number of months 83\n",
      "Total number of months 84\n",
      "Total number of months 85\n",
      "Total number of months 86\n"
     ]
    }
   ],
   "source": [
    "# opens csv file into csv reader object\n",
    "with open (\"PyBank/Resources/budget_data.csv\") as file:\n",
    "   # print(file.read())\n",
    "   csvreader = csv.reader(file)\n",
    "   header = next(csvreader)\n",
    "   total_months = 0\n",
    "   for row in csvreader:\n",
    "    total_months += 1\n",
    "     #print(row[1])\n",
    "    print(f\"Total number of months {total_months}\")"
   ]
  }
 ],
 "metadata": {
  "kernelspec": {
   "display_name": "Python 3.7.13 ('dev')",
   "language": "python",
   "name": "python3"
  },
  "language_info": {
   "codemirror_mode": {
    "name": "ipython",
    "version": 3
   },
   "file_extension": ".py",
   "mimetype": "text/x-python",
   "name": "python",
   "nbconvert_exporter": "python",
   "pygments_lexer": "ipython3",
   "version": "3.7.13"
  },
  "orig_nbformat": 4,
  "vscode": {
   "interpreter": {
    "hash": "ac184df1875f1b0b9479cccc7335691c9a0577fad240681ae1ce754ac878a5f3"
   }
  }
 },
 "nbformat": 4,
 "nbformat_minor": 2
}
