{
 "cells": [
  {
   "cell_type": "code",
   "execution_count": 2,
   "metadata": {},
   "outputs": [],
   "source": [
    "# path and csv imports\n",
    "from pathlib import Path\n",
    "import csv"
   ]
  },
  {
   "cell_type": "code",
   "execution_count": 24,
   "metadata": {},
   "outputs": [
    {
     "name": "stdout",
     "output_type": "stream",
     "text": [
      "38382578.0\n"
     ]
    }
   ],
   "source": [
    "# opens csv file into csv reader object\n",
    "with open (\"PyBank/Resources/budget_data.csv\") as file:\n",
    "   # print(file.read())\n",
    "   csvreader = csv.reader(file)\n",
    "   header = next(csvreader)\n",
    "   total_months = 0\n",
    "   total = 0\n",
    "   for row in csvreader:\n",
    "       total_months += 1\n",
    "       total += float(row[1])\n",
    "   print(total)\n",
    "    #print(f\"Total number of months {total_months}\")"
   ]
  },
  {
   "cell_type": "code",
   "execution_count": 28,
   "metadata": {},
   "outputs": [
    {
     "name": "stdout",
     "output_type": "stream",
     "text": [
      "\n",
      "Financial Analysis\n",
      "----------------------------\n",
      "total months : 86\n",
      "total : $ 38382578.0\n",
      "\n"
     ]
    }
   ],
   "source": [
    "# Generate output string\n",
    "output = f\"\"\"\n",
    "Financial Analysis\n",
    "----------------------------\n",
    "total months : {total_months}\n",
    "total : $ {total}\n",
    "\"\"\"\n",
    "print(output)"
   ]
  },
  {
   "cell_type": "code",
   "execution_count": 30,
   "metadata": {},
   "outputs": [],
   "source": [
    "# Saving aggregated budget_data for PyBank:\n",
    "with open(\"aggreagated_data.txt\", \"w\") as aggregated_data_file:\n",
    "    aggregated_data_file.write(output)"
   ]
  }
 ],
 "metadata": {
  "kernelspec": {
   "display_name": "Python 3.7.13 ('dev')",
   "language": "python",
   "name": "python3"
  },
  "language_info": {
   "codemirror_mode": {
    "name": "ipython",
    "version": 3
   },
   "file_extension": ".py",
   "mimetype": "text/x-python",
   "name": "python",
   "nbconvert_exporter": "python",
   "pygments_lexer": "ipython3",
   "version": "3.7.13"
  },
  "orig_nbformat": 4,
  "vscode": {
   "interpreter": {
    "hash": "ac184df1875f1b0b9479cccc7335691c9a0577fad240681ae1ce754ac878a5f3"
   }
  }
 },
 "nbformat": 4,
 "nbformat_minor": 2
}
