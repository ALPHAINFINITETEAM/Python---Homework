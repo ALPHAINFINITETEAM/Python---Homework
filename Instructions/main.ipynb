{
 "cells": [
  {
   "cell_type": "code",
   "execution_count": null,
   "metadata": {},
   "outputs": [],
   "source": []
  }
 ],
 "metadata": {
  "kernelspec": {
   "display_name": "Python 3.7.13 ('dev')",
   "language": "python",
   "name": "python3"
  },
  "language_info": {
   "name": "python",
   "version": "3.7.13"
  },
  "orig_nbformat": 4,
  "vscode": {
   "interpreter": {
    "hash": "ac184df1875f1b0b9479cccc7335691c9a0577fad240681ae1ce754ac878a5f3"
   }
  }
 },
 "nbformat": 4,
 "nbformat_minor": 2
}
